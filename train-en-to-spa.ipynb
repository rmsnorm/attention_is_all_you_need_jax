{
 "cells": [
  {
   "cell_type": "code",
   "execution_count": 1,
   "metadata": {},
   "outputs": [],
   "source": [
    "import pathlib\n",
    "import random\n",
    "import string\n",
    "import re\n",
    "import numpy as np\n",
    "\n",
    "import jax.numpy as jnp\n",
    "import optax\n",
    "\n",
    "from flax import nnx\n",
    "\n",
    "import tiktoken\n",
    "import grain.python as grain\n",
    "import tqdm"
   ]
  },
  {
   "cell_type": "code",
   "execution_count": 2,
   "metadata": {},
   "outputs": [],
   "source": [
    "import requests\n",
    "import zipfile\n",
    "import tempfile\n",
    "\n",
    "url = \"http://storage.googleapis.com/download.tensorflow.org/data/spa-eng.zip\"\n",
    "\n",
    "with tempfile.TemporaryDirectory() as temp_dir:\n",
    "    temp_path = pathlib.Path(temp_dir)\n",
    "    zip_file_path = temp_path / \"spa-eng.zip\"\n",
    "\n",
    "    response = requests.get(url)\n",
    "    zip_file_path.write_bytes(response.content)\n",
    "\n",
    "    with zipfile.ZipFile(zip_file_path, \"r\") as zip_ref:\n",
    "        zip_ref.extractall(temp_path)\n",
    "\n",
    "    text_file = temp_path / \"spa-eng\" / \"spa.txt\"\n",
    "\n",
    "    with open(text_file) as f:\n",
    "        lines = f.read().split(\"\\n\")[:-1]\n",
    "    text_pairs = []\n",
    "    for line in lines:\n",
    "        eng, spa = line.split(\"\\t\")\n",
    "        spa = \"[start] \" + spa + \" [end]\"\n",
    "        text_pairs.append((eng, spa))"
   ]
  },
  {
   "cell_type": "code",
   "execution_count": 3,
   "metadata": {},
   "outputs": [
    {
     "name": "stdout",
     "output_type": "stream",
     "text": [
      "118964 total pairs\n",
      "83276 training pairs\n",
      "17844 validation pairs\n",
      "17844 test pairs\n"
     ]
    }
   ],
   "source": [
    "random.shuffle(text_pairs)\n",
    "num_val_samples = int(0.15 * len(text_pairs))\n",
    "num_train_samples = len(text_pairs) - 2 * num_val_samples\n",
    "train_pairs = text_pairs[:num_train_samples]\n",
    "val_pairs = text_pairs[num_train_samples : num_train_samples + num_val_samples]\n",
    "test_pairs = text_pairs[num_train_samples + num_val_samples :]\n",
    "\n",
    "print(f\"{len(text_pairs)} total pairs\")\n",
    "print(f\"{len(train_pairs)} training pairs\")\n",
    "print(f\"{len(val_pairs)} validation pairs\")\n",
    "print(f\"{len(test_pairs)} test pairs\")"
   ]
  },
  {
   "cell_type": "code",
   "execution_count": 4,
   "metadata": {},
   "outputs": [],
   "source": [
    "tokenizer = tiktoken.get_encoding(\"cl100k_base\")"
   ]
  },
  {
   "cell_type": "code",
   "execution_count": 5,
   "metadata": {},
   "outputs": [],
   "source": [
    "strip_chars = string.punctuation + \"¿\"\n",
    "strip_chars = strip_chars.replace(\"[\", \"\")\n",
    "strip_chars = strip_chars.replace(\"]\", \"\")\n",
    "\n",
    "vocab_size = tokenizer.n_vocab\n",
    "sequence_length = 20"
   ]
  },
  {
   "cell_type": "code",
   "execution_count": 6,
   "metadata": {},
   "outputs": [
    {
     "data": {
      "text/plain": [
       "100277"
      ]
     },
     "execution_count": 6,
     "metadata": {},
     "output_type": "execute_result"
    }
   ],
   "source": [
    "vocab_size"
   ]
  },
  {
   "cell_type": "code",
   "execution_count": 7,
   "metadata": {},
   "outputs": [],
   "source": [
    "def custom_standardization(input_string):\n",
    "    lowercase = input_string.lower()\n",
    "    return re.sub(f\"[{re.escape(strip_chars)}]\", \"\", lowercase)"
   ]
  },
  {
   "cell_type": "code",
   "execution_count": 8,
   "metadata": {},
   "outputs": [],
   "source": [
    "def tokenize_and_pad(text, tokenizer, max_length):\n",
    "    tokens = tokenizer.encode(text)[:max_length]\n",
    "    padded = tokens + [0] * (max_length - len(tokens)) if len(tokens) < max_length else tokens ##assumes list-like - (https://github.com/openai/tiktoken/blob/main/tiktoken/core.py#L81 current tiktoken out)\n",
    "    return padded"
   ]
  },
  {
   "cell_type": "code",
   "execution_count": 9,
   "metadata": {},
   "outputs": [],
   "source": [
    "def format_dataset(eng, spa, tokenizer, sequence_length):\n",
    "    eng = custom_standardization(eng)\n",
    "    spa = custom_standardization(spa)\n",
    "    eng = tokenize_and_pad(eng, tokenizer, sequence_length)\n",
    "    spa = tokenize_and_pad(spa, tokenizer, sequence_length)\n",
    "    return {\n",
    "            \"encoder_inputs\": eng,\n",
    "            \"decoder_inputs\": spa[:-1],\n",
    "            \"target_output\": spa[1:],\n",
    "            }"
   ]
  },
  {
   "cell_type": "code",
   "execution_count": 10,
   "metadata": {},
   "outputs": [],
   "source": [
    "train_data = [format_dataset(eng, spa, tokenizer, sequence_length) for eng, spa in train_pairs]\n",
    "val_data = [format_dataset(eng, spa, tokenizer, sequence_length) for eng, spa in val_pairs]\n",
    "test_data = [format_dataset(eng, spa, tokenizer, sequence_length) for eng, spa in test_pairs]"
   ]
  },
  {
   "cell_type": "code",
   "execution_count": 11,
   "metadata": {},
   "outputs": [
    {
     "name": "stdout",
     "output_type": "stream",
     "text": [
      "{'encoder_inputs': [576, 19665, 3388, 374, 539, 1825, 311, 2536, 23832, 0, 0, 0, 0, 0, 0, 0, 0, 0, 0, 0], 'decoder_inputs': [29563, 60, 10566, 16622, 78, 409, 19665, 2092, 9157, 1560, 3429, 9686, 91568, 510, 408, 60, 0, 0, 0], 'target_output': [60, 10566, 16622, 78, 409, 19665, 2092, 9157, 1560, 3429, 9686, 91568, 510, 408, 60, 0, 0, 0, 0]}\n"
     ]
    }
   ],
   "source": [
    "## data selection example\n",
    "print(train_data[135])"
   ]
  },
  {
   "cell_type": "code",
   "execution_count": 12,
   "metadata": {},
   "outputs": [],
   "source": [
    "from transformer import BlockConfig, TransformerConfig\n",
    "from transformer import EncDecTransformer"
   ]
  },
  {
   "cell_type": "code",
   "execution_count": 13,
   "metadata": {},
   "outputs": [],
   "source": [
    "batch_size = 64 #set here for the loader and model train later on\n",
    "num_epochs = 10\n",
    "\n",
    "class CustomPreprocessing(grain.MapTransform):\n",
    "    def __init__(self):\n",
    "        pass\n",
    "\n",
    "    def map(self, data):\n",
    "        return {\n",
    "            \"encoder_inputs\": np.array(data[\"encoder_inputs\"]),\n",
    "            \"decoder_inputs\": np.array(data[\"decoder_inputs\"]),\n",
    "            \"target_output\": np.array(data[\"target_output\"]),\n",
    "        }\n",
    "\n",
    "train_sampler = grain.IndexSampler(\n",
    "    len(train_data),\n",
    "    shuffle=True,\n",
    "    seed=12,                        # Seed for reproducibility\n",
    "    shard_options=grain.NoSharding(), # No sharding since it's a single-device setup\n",
    "    num_epochs=1,                    # Iterate over the dataset for one epoch\n",
    ")\n",
    "\n",
    "val_sampler = grain.IndexSampler(\n",
    "    len(val_data),\n",
    "    shuffle=False,\n",
    "    seed=12,\n",
    "    shard_options=grain.NoSharding(),\n",
    "    num_epochs=1,\n",
    ")\n",
    "\n",
    "train_loader = grain.DataLoader(\n",
    "    data_source=train_data,\n",
    "    sampler=train_sampler,                 # Sampler to determine how to access the data\n",
    "    worker_count=4,                        # Number of child processes launched to parallelize the transformations\n",
    "    worker_buffer_size=2,                  # Count of output batches to produce in advance per worker\n",
    "    operations=[\n",
    "        CustomPreprocessing(),\n",
    "        grain.Batch(batch_size=batch_size, drop_remainder=True),\n",
    "    ]\n",
    ")\n",
    "\n",
    "val_loader = grain.DataLoader(\n",
    "    data_source=val_data,\n",
    "    sampler=val_sampler,\n",
    "    worker_count=4,\n",
    "    worker_buffer_size=2,\n",
    "    operations=[\n",
    "        CustomPreprocessing(),\n",
    "        grain.Batch(batch_size=batch_size),\n",
    "    ]\n",
    ")"
   ]
  },
  {
   "cell_type": "code",
   "execution_count": 14,
   "metadata": {},
   "outputs": [],
   "source": [
    "def compute_loss(logits, labels):\n",
    "    loss = optax.softmax_cross_entropy_with_integer_labels(logits=logits, labels=labels)\n",
    "    return jnp.mean(loss)"
   ]
  },
  {
   "cell_type": "code",
   "execution_count": 15,
   "metadata": {},
   "outputs": [],
   "source": [
    "import jax\n",
    "@nnx.jit\n",
    "def train_step(model, optimizer, batch):\n",
    "    def loss_fn(model, train_encoder_input, train_decoder_input, train_target_input):\n",
    "        logits = model(train_encoder_input, train_decoder_input)\n",
    "        loss = compute_loss(logits, train_target_input)\n",
    "        return loss\n",
    "\n",
    "    grad_fn = nnx.value_and_grad(loss_fn)\n",
    "    loss, grads = grad_fn(model, jnp.array(batch[\"encoder_inputs\"]), jnp.array(batch[\"decoder_inputs\"]), jnp.array(batch[\"target_output\"]))\n",
    "    optimizer.update(grads)\n",
    "    return loss\n",
    "\n",
    "@nnx.jit\n",
    "def eval_step(model, batch, eval_metrics):\n",
    "    logits = model(jnp.array(batch[\"encoder_inputs\"]), jnp.array(batch[\"decoder_inputs\"]))\n",
    "    loss = compute_loss(logits, jnp.array(batch[\"target_output\"]))\n",
    "    labels = jnp.array(batch[\"target_output\"])\n",
    "    # jax.debug.print(\"logits: {logits}\", logits=logits)\n",
    "    # jax.debug.print(\"labels: {labels}\", labels=labels)\n",
    "    # jax.debug.print(\"loss: {loss}\", loss=loss)\n",
    "\n",
    "    eval_metrics.update(\n",
    "        loss=loss,\n",
    "        logits=logits,\n",
    "        labels=labels,\n",
    "    )"
   ]
  },
  {
   "cell_type": "code",
   "execution_count": 16,
   "metadata": {},
   "outputs": [],
   "source": [
    "eval_metrics = nnx.MultiMetric(\n",
    "    loss=nnx.metrics.Average('loss'),\n",
    "    accuracy=nnx.metrics.Accuracy(),\n",
    ")\n",
    "\n",
    "train_metrics_history = {\n",
    "    \"train_loss\": [],\n",
    "}\n",
    "\n",
    "eval_metrics_history = {\n",
    "    \"test_loss\": [],\n",
    "    \"test_accuracy\": [],\n",
    "}"
   ]
  },
  {
   "cell_type": "code",
   "execution_count": 17,
   "metadata": {},
   "outputs": [],
   "source": [
    "bar_format = \"{desc}[{n_fmt}/{total_fmt}]{postfix} [{elapsed}<{remaining}]\"\n",
    "train_total_steps = len(train_data) // batch_size\n",
    "\n",
    "def train_one_epoch(epoch, model, optimizer):\n",
    "    model.train()  # Set model to the training mode: e.g. update batch statistics\n",
    "    with tqdm.tqdm(\n",
    "        desc=f\"[train] epoch: {epoch}/{num_epochs}, \",\n",
    "        total=train_total_steps,\n",
    "        bar_format=bar_format,\n",
    "        leave=True,\n",
    "    ) as pbar:\n",
    "        for batch in train_loader:\n",
    "            loss = train_step(model, optimizer, batch)\n",
    "            train_metrics_history[\"train_loss\"].append(loss.item())\n",
    "            pbar.set_postfix({\"loss\": loss.item()})\n",
    "            pbar.update(1)\n",
    "\n",
    "\n",
    "def evaluate_model(epoch, model):\n",
    "    # Compute the metrics on the train and val sets after each training epoch.\n",
    "    model.eval()  # Set model to evaluation model: e.g. use stored batch statistics\n",
    "\n",
    "    eval_metrics.reset()  # Reset the eval metrics\n",
    "    for val_batch in val_loader:\n",
    "        eval_step(model, val_batch, eval_metrics)\n",
    "\n",
    "    for metric, value in eval_metrics.compute().items():\n",
    "        eval_metrics_history[f'test_{metric}'].append(value)\n",
    "\n",
    "    print(f\"[test] epoch: {epoch + 1}/{num_epochs}\")\n",
    "    print(f\"- total loss: {eval_metrics_history['test_loss'][-1]:0.4f}\")\n",
    "    print(f\"- Accuracy: {eval_metrics_history['test_accuracy'][-1]:0.4f}\")"
   ]
  },
  {
   "cell_type": "code",
   "execution_count": 18,
   "metadata": {},
   "outputs": [],
   "source": [
    "# ## Hyperparameters\n",
    "# rng = nnx.Rngs(0)\n",
    "# embed_dim = 128\n",
    "# latent_dim = 512\n",
    "# num_heads = 4\n",
    "# dropout_rate = 0.5\n",
    "# vocab_size = tokenizer.n_vocab\n",
    "# sequence_length = 20\n",
    "\n",
    "\n",
    "block_cfg = BlockConfig(\n",
    "    d_model=128,\n",
    "    d_ff=512,\n",
    "    num_heads=4,\n",
    "    head_dim=32,\n",
    "    attn_dropout_rate=0.2,\n",
    "    mlp_dropout_rate=0.2,\n",
    "    attn_weights_dtype=jnp.float32,\n",
    "    mlp_weights_dtype=jnp.float32,\n",
    ")\n",
    "\n",
    "transformer_cfg = TransformerConfig(\n",
    "    num_layers=2,\n",
    "    vocab_size=tokenizer.n_vocab,\n",
    "    max_seq_len=sequence_length,\n",
    "    embedding_dtype=jnp.float32,\n",
    "    block_cfg=block_cfg)\n",
    "\n",
    "learning_rate = 1.5e-3\n",
    "model = EncDecTransformer(transformer_cfg, rngs=nnx.Rngs(0))\n",
    "\n",
    "warmup_steps = 1000\n",
    "lr_scheduler = optax.warmup_cosine_decay_schedule(\n",
    "    init_value=1e-6,\n",
    "    peak_value=learning_rate,\n",
    "    warmup_steps=warmup_steps,\n",
    "    decay_steps=10000\n",
    ")\n",
    "optimizer = nnx.Optimizer(model, optax.adamw(lr_scheduler))\n"
   ]
  },
  {
   "cell_type": "code",
   "execution_count": 19,
   "metadata": {},
   "outputs": [
    {
     "name": "stdout",
     "output_type": "stream",
     "text": [
      "13758080\n"
     ]
    }
   ],
   "source": [
    "# Count number of parameters in the model\n",
    "import numpy as np\n",
    "import jax\n",
    "\n",
    "def count_params(model):\n",
    "    params = nnx.state(model, nnx.Param)\n",
    "    total_params  = sum(np.prod(x.shape) for x in jax.tree_util.tree_leaves(params))\n",
    "    print(total_params)\n",
    "\n",
    "count_params(model)"
   ]
  },
  {
   "cell_type": "code",
   "execution_count": 20,
   "metadata": {},
   "outputs": [
    {
     "name": "stderr",
     "output_type": "stream",
     "text": [
      "[train] epoch: 0/10, [1300/1301], loss=1.45 [00:50<00:00]\n"
     ]
    },
    {
     "name": "stdout",
     "output_type": "stream",
     "text": [
      "[test] epoch: 1/10\n",
      "- total loss: 1.3593\n",
      "- Accuracy: 0.7633\n"
     ]
    },
    {
     "name": "stderr",
     "output_type": "stream",
     "text": [
      "[train] epoch: 1/10, [1300/1301], loss=0.951 [00:24<00:00]\n"
     ]
    },
    {
     "name": "stdout",
     "output_type": "stream",
     "text": [
      "[test] epoch: 2/10\n",
      "- total loss: 0.9521\n",
      "- Accuracy: 0.8232\n"
     ]
    },
    {
     "name": "stderr",
     "output_type": "stream",
     "text": [
      "[train] epoch: 2/10, [1300/1301], loss=0.774 [00:23<00:00]\n"
     ]
    },
    {
     "name": "stdout",
     "output_type": "stream",
     "text": [
      "[test] epoch: 3/10\n",
      "- total loss: 0.8278\n",
      "- Accuracy: 0.8434\n"
     ]
    },
    {
     "name": "stderr",
     "output_type": "stream",
     "text": [
      "[train] epoch: 3/10, [1300/1301], loss=0.61 [00:23<00:00] \n"
     ]
    },
    {
     "name": "stdout",
     "output_type": "stream",
     "text": [
      "[test] epoch: 4/10\n",
      "- total loss: 0.7669\n",
      "- Accuracy: 0.8554\n"
     ]
    },
    {
     "name": "stderr",
     "output_type": "stream",
     "text": [
      "[train] epoch: 4/10, [1300/1301], loss=0.521 [00:23<00:00]\n"
     ]
    },
    {
     "name": "stdout",
     "output_type": "stream",
     "text": [
      "[test] epoch: 5/10\n",
      "- total loss: 0.7307\n",
      "- Accuracy: 0.8638\n"
     ]
    },
    {
     "name": "stderr",
     "output_type": "stream",
     "text": [
      "[train] epoch: 5/10, [1300/1301], loss=0.417 [00:23<00:00]\n"
     ]
    },
    {
     "name": "stdout",
     "output_type": "stream",
     "text": [
      "[test] epoch: 6/10\n",
      "- total loss: 0.7079\n",
      "- Accuracy: 0.8696\n"
     ]
    },
    {
     "name": "stderr",
     "output_type": "stream",
     "text": [
      "[train] epoch: 6/10, [1300/1301], loss=0.388 [00:23<00:00]\n"
     ]
    },
    {
     "name": "stdout",
     "output_type": "stream",
     "text": [
      "[test] epoch: 7/10\n",
      "- total loss: 0.6973\n",
      "- Accuracy: 0.8719\n"
     ]
    },
    {
     "name": "stderr",
     "output_type": "stream",
     "text": [
      "[train] epoch: 7/10, [1300/1301], loss=0.395 [00:23<00:00]\n"
     ]
    },
    {
     "name": "stdout",
     "output_type": "stream",
     "text": [
      "[test] epoch: 8/10\n",
      "- total loss: 0.6964\n",
      "- Accuracy: 0.8720\n"
     ]
    },
    {
     "name": "stderr",
     "output_type": "stream",
     "text": [
      "[train] epoch: 8/10, [1300/1301], loss=0.382 [00:24<00:00]\n"
     ]
    },
    {
     "name": "stdout",
     "output_type": "stream",
     "text": [
      "[test] epoch: 9/10\n",
      "- total loss: 0.6964\n",
      "- Accuracy: 0.8720\n"
     ]
    },
    {
     "name": "stderr",
     "output_type": "stream",
     "text": [
      "[train] epoch: 9/10, [1300/1301], loss=0.368 [00:24<00:00]\n"
     ]
    },
    {
     "name": "stdout",
     "output_type": "stream",
     "text": [
      "[test] epoch: 10/10\n",
      "- total loss: 0.6964\n",
      "- Accuracy: 0.8720\n"
     ]
    }
   ],
   "source": [
    "for epoch in range(num_epochs):\n",
    "    train_one_epoch(epoch, model, optimizer)\n",
    "    evaluate_model(epoch, model)\n",
    "    # break"
   ]
  },
  {
   "cell_type": "code",
   "execution_count": 27,
   "metadata": {},
   "outputs": [
    {
     "data": {
      "text/plain": [
       "<matplotlib.legend.Legend at 0x7e4290086630>"
      ]
     },
     "execution_count": 27,
     "metadata": {},
     "output_type": "execute_result"
    },
    {
     "data": {
      "image/png": "[encoded data removed]",
      "text/plain": [
       "<Figure size 640x480 with 1 Axes>"
      ]
     },
     "metadata": {},
     "output_type": "display_data"
    }
   ],
   "source": [
    "import matplotlib.pyplot as plt\n",
    "\n",
    "plt.plot(train_metrics_history[\"train_loss\"], label=\"Loss value during the training\")\n",
    "plt.yscale('log')\n",
    "plt.legend()"
   ]
  },
  {
   "cell_type": "code",
   "execution_count": 28,
   "metadata": {},
   "outputs": [
    {
     "data": {
      "text/plain": [
       "[<matplotlib.lines.Line2D at 0x7e42766aaba0>]"
      ]
     },
     "execution_count": 28,
     "metadata": {},
     "output_type": "execute_result"
    },
    {
     "data": {
      "image/png": "[encoded data removed]",
      "text/plain": [
       "<Figure size 1000x500 with 2 Axes>"
      ]
     },
     "metadata": {},
     "output_type": "display_data"
    }
   ],
   "source": [
    "fig, axs = plt.subplots(1, 2, figsize=(10, 5))\n",
    "axs[0].set_title(\"Loss value on eval set\")\n",
    "axs[0].plot(eval_metrics_history[\"test_loss\"])\n",
    "axs[1].set_title(\"Accuracy on eval set\")\n",
    "axs[1].plot(eval_metrics_history[\"test_accuracy\"])"
   ]
  },
  {
   "cell_type": "code",
   "execution_count": 29,
   "metadata": {},
   "outputs": [],
   "source": [
    "def decode_sequence(input_sentence):\n",
    "\n",
    "    input_sentence = custom_standardization(input_sentence)\n",
    "    tokenized_input_sentence = tokenize_and_pad(input_sentence, tokenizer, sequence_length)\n",
    "\n",
    "    decoded_sentence = \"[start\"\n",
    "    for i in range(sequence_length):\n",
    "        tokenized_target_sentence = tokenize_and_pad(decoded_sentence, tokenizer, sequence_length)[:-1]\n",
    "        predictions = model(jnp.array([tokenized_input_sentence]), jnp.array([tokenized_target_sentence]))\n",
    "\n",
    "        sampled_token_index = np.argmax(predictions[0,i, :]).item(0)\n",
    "        sampled_token = tokenizer.decode([sampled_token_index])\n",
    "        decoded_sentence += \"\" + sampled_token\n",
    "\n",
    "        if decoded_sentence[-5:] == \"[end]\":\n",
    "            break\n",
    "    return decoded_sentence"
   ]
  },
  {
   "cell_type": "code",
   "execution_count": 30,
   "metadata": {},
   "outputs": [],
   "source": [
    "test_eng_texts = [pair[0] for pair in test_pairs]"
   ]
  },
  {
   "cell_type": "code",
   "execution_count": 31,
   "metadata": {},
   "outputs": [],
   "source": [
    "test_result_pairs = []\n",
    "for _ in range(10):\n",
    "    input_sentence = random.choice(test_eng_texts)\n",
    "    translated = decode_sequence(input_sentence)\n",
    "\n",
    "    test_result_pairs.append(f\"[Input]: {input_sentence} [Translation]: {translated}\")"
   ]
  },
  {
   "cell_type": "code",
   "execution_count": 32,
   "metadata": {},
   "outputs": [
    {
     "name": "stdout",
     "output_type": "stream",
     "text": [
      "[Input]: I need to buy food, but I don't have enough money. [Translation]: [start] necesito comprar comida pero no tengo dinero suficiente [end]\n",
      "[Input]: He's a gardener. [Translation]: [start] él es un jardinero [end]\n",
      "[Input]: We got ready. [Translation]: [start] estábamos listos [end]\n",
      "[Input]: He's a bigot. [Translation]: [start] él es una autilla [end]\n",
      "[Input]: I don't want you to think I'm crazy. [Translation]: [start] no quiero que piensas que estoy loco [end]\n",
      "[Input]: Don't call us, we'll call you. [Translation]: [start] no nos llamáis bien [end]\n",
      "[Input]: Did you leave a tip? [Translation]: [start] dejaste una punta de punta [end]\n",
      "[Input]: Tom is still in bed. [Translation]: [start] tom todavía está en la cama [end]\n",
      "[Input]: I haven't eaten for two days. [Translation]: [start] no he comido por dos días [end]\n",
      "[Input]: She has a great appetite for adventure. [Translation]: [start] ella tiene un gran apetito para aventuras [end]\n"
     ]
    }
   ],
   "source": [
    "for i in test_result_pairs:\n",
    "    print(i)"
   ]
  },
  {
   "cell_type": "code",
   "execution_count": null,
   "metadata": {},
   "outputs": [],
   "source": []
  },
  {
   "cell_type": "code",
   "execution_count": null,
   "metadata": {},
   "outputs": [],
   "source": []
  }
 ],
 "metadata": {
  "kernelspec": {
   "display_name": "base",
   "language": "python",
   "name": "python3"
  },
  "language_info": {
   "codemirror_mode": {
    "name": "ipython",
    "version": 3
   },
   "file_extension": ".py",
   "mimetype": "text/x-python",
   "name": "python",
   "nbconvert_exporter": "python",
   "pygments_lexer": "ipython3",
   "version": "3.12.2"
  }
 },
 "nbformat": 4,
 "nbformat_minor": 4
}
